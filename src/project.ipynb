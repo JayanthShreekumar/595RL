{
 "cells": [
  {
   "cell_type": "markdown",
   "metadata": {},
   "source": [
    "# DDPG SIMPLE TAG PETTINGZOO"
   ]
  },
  {
   "cell_type": "code",
   "execution_count": 1,
   "metadata": {},
   "outputs": [
    {
     "name": "stderr",
     "output_type": "stream",
     "text": [
      "2024-11-11 08:37:10,433\tWARNING __init__.py:10 -- DDPG has/have been moved to `rllib_contrib` and will no longer be maintained by the RLlib team. You can still use it/them normally inside RLlib util Ray 2.8, but from Ray 2.9 on, all `rllib_contrib` algorithms will no longer be part of the core repo, and will therefore have to be installed separately with pinned dependencies for e.g. ray[rllib] and other packages! See https://github.com/ray-project/ray/tree/master/rllib_contrib#rllib-contrib for more information on the RLlib contrib effort.\n"
     ]
    }
   ],
   "source": [
    "import ray\n",
    "import time\n",
    "import numpy as np\n",
    "import scipy\n",
    "import torch\n",
    "import sklearn\n",
    "import supersuit as ss\n",
    "import matplotlib.pyplot as plt\n",
    "import os\n",
    "import cv2\n",
    "\n",
    "%matplotlib inline\n",
    "\n",
    "from ray import tune\n",
    "from ray.rllib.algorithms.ddpg import DDPG\n",
    "from ray.rllib.algorithms.ddpg import DDPGConfig\n",
    "from ray.rllib.env.wrappers.pettingzoo_env import ParallelPettingZooEnv\n",
    "from pettingzoo.mpe import simple_tag_v3"
   ]
  },
  {
   "cell_type": "code",
   "execution_count": 2,
   "metadata": {},
   "outputs": [
    {
     "name": "stderr",
     "output_type": "stream",
     "text": [
      "2024-11-11 08:37:12,141\tINFO worker.py:1673 -- Started a local Ray instance.\n"
     ]
    },
    {
     "data": {
      "application/vnd.jupyter.widget-view+json": {
       "model_id": "36a94f78e9944e5f9da11ae677ff725b",
       "version_major": 2,
       "version_minor": 0
      },
      "text/html": [
       "<div class=\"lm-Widget p-Widget lm-Panel p-Panel jp-Cell-outputWrapper\">\n",
       "    <div style=\"margin-left: 50px;display: flex;flex-direction: row;align-items: center\">\n",
       "        <div class=\"jp-RenderedHTMLCommon\" style=\"display: flex; flex-direction: row;\">\n",
       "  <svg viewBox=\"0 0 567 224\" fill=\"none\" xmlns=\"http://www.w3.org/2000/svg\" style=\"height: 3em;\">\n",
       "    <g clip-path=\"url(#clip0_4338_178347)\">\n",
       "        <path d=\"M341.29 165.561H355.29L330.13 129.051C345.63 123.991 354.21 112.051 354.21 94.2307C354.21 71.3707 338.72 58.1807 311.88 58.1807H271V165.561H283.27V131.661H311.8C314.25 131.661 316.71 131.501 319.01 131.351L341.25 165.561H341.29ZM283.29 119.851V70.0007H311.82C331.3 70.0007 342.34 78.2907 342.34 94.5507C342.34 111.271 331.34 119.861 311.82 119.861L283.29 119.851ZM451.4 138.411L463.4 165.561H476.74L428.74 58.1807H416L367.83 165.561H380.83L392.83 138.411H451.4ZM446.19 126.601H398L422 72.1407L446.24 126.601H446.19ZM526.11 128.741L566.91 58.1807H554.35L519.99 114.181L485.17 58.1807H472.44L514.01 129.181V165.541H526.13V128.741H526.11Z\" fill=\"var(--jp-ui-font-color0)\"/>\n",
       "        <path d=\"M82.35 104.44C84.0187 97.8827 87.8248 92.0678 93.1671 87.9146C98.5094 83.7614 105.083 81.5067 111.85 81.5067C118.617 81.5067 125.191 83.7614 130.533 87.9146C135.875 92.0678 139.681 97.8827 141.35 104.44H163.75C164.476 101.562 165.622 98.8057 167.15 96.2605L127.45 56.5605C121.071 60.3522 113.526 61.6823 106.235 60.3005C98.9443 58.9187 92.4094 54.9203 87.8602 49.0574C83.3109 43.1946 81.0609 35.8714 81.5332 28.4656C82.0056 21.0599 85.1679 14.0819 90.4252 8.8446C95.6824 3.60726 102.672 0.471508 110.08 0.0272655C117.487 -0.416977 124.802 1.86091 130.647 6.4324C136.493 11.0039 140.467 17.5539 141.821 24.8501C143.175 32.1463 141.816 39.6859 138 46.0505L177.69 85.7505C182.31 82.9877 187.58 81.4995 192.962 81.4375C198.345 81.3755 203.648 82.742 208.33 85.3976C213.012 88.0532 216.907 91.9029 219.616 96.5544C222.326 101.206 223.753 106.492 223.753 111.875C223.753 117.258 222.326 122.545 219.616 127.197C216.907 131.848 213.012 135.698 208.33 138.353C203.648 141.009 198.345 142.375 192.962 142.313C187.58 142.251 182.31 140.763 177.69 138L138 177.7C141.808 184.071 143.155 191.614 141.79 198.91C140.424 206.205 136.44 212.75 130.585 217.313C124.731 221.875 117.412 224.141 110.004 223.683C102.596 223.226 95.6103 220.077 90.3621 214.828C85.1139 209.58 81.9647 202.595 81.5072 195.187C81.0497 187.779 83.3154 180.459 87.878 174.605C92.4405 168.751 98.9853 164.766 106.281 163.401C113.576 162.035 121.119 163.383 127.49 167.19L167.19 127.49C165.664 124.941 164.518 122.182 163.79 119.3H141.39C139.721 125.858 135.915 131.673 130.573 135.826C125.231 139.98 118.657 142.234 111.89 142.234C105.123 142.234 98.5494 139.98 93.2071 135.826C87.8648 131.673 84.0587 125.858 82.39 119.3H60C58.1878 126.495 53.8086 132.78 47.6863 136.971C41.5641 141.163 34.1211 142.972 26.7579 142.059C19.3947 141.146 12.6191 137.574 7.70605 132.014C2.79302 126.454 0.0813599 119.29 0.0813599 111.87C0.0813599 104.451 2.79302 97.2871 7.70605 91.7272C12.6191 86.1673 19.3947 82.5947 26.7579 81.6817C34.1211 80.7686 41.5641 82.5781 47.6863 86.7696C53.8086 90.9611 58.1878 97.2456 60 104.44H82.35ZM100.86 204.32C103.407 206.868 106.759 208.453 110.345 208.806C113.93 209.159 117.527 208.258 120.522 206.256C123.517 204.254 125.725 201.276 126.771 197.828C127.816 194.38 127.633 190.677 126.253 187.349C124.874 184.021 122.383 181.274 119.205 179.577C116.027 177.88 112.359 177.337 108.826 178.042C105.293 178.746 102.113 180.654 99.8291 183.44C97.5451 186.226 96.2979 189.718 96.3 193.32C96.2985 195.364 96.7006 197.388 97.4831 199.275C98.2656 201.163 99.4132 202.877 100.86 204.32ZM204.32 122.88C206.868 120.333 208.453 116.981 208.806 113.396C209.159 109.811 208.258 106.214 206.256 103.219C204.254 100.223 201.275 98.0151 197.827 96.97C194.38 95.9249 190.676 96.1077 187.348 97.4873C184.02 98.8669 181.274 101.358 179.577 104.536C177.879 107.714 177.337 111.382 178.041 114.915C178.746 118.448 180.653 121.627 183.439 123.911C186.226 126.195 189.717 127.443 193.32 127.44C195.364 127.443 197.388 127.042 199.275 126.259C201.163 125.476 202.878 124.328 204.32 122.88ZM122.88 19.4205C120.333 16.8729 116.981 15.2876 113.395 14.9347C109.81 14.5817 106.213 15.483 103.218 17.4849C100.223 19.4868 98.0146 22.4654 96.9696 25.9131C95.9245 29.3608 96.1073 33.0642 97.4869 36.3922C98.8665 39.7202 101.358 42.4668 104.535 44.1639C107.713 45.861 111.381 46.4036 114.914 45.6992C118.447 44.9949 121.627 43.0871 123.911 40.301C126.195 37.515 127.442 34.0231 127.44 30.4205C127.44 28.3772 127.038 26.3539 126.255 24.4664C125.473 22.5788 124.326 20.8642 122.88 19.4205ZM19.42 100.86C16.8725 103.408 15.2872 106.76 14.9342 110.345C14.5813 113.93 15.4826 117.527 17.4844 120.522C19.4863 123.518 22.4649 125.726 25.9127 126.771C29.3604 127.816 33.0638 127.633 36.3918 126.254C39.7198 124.874 42.4664 122.383 44.1635 119.205C45.8606 116.027 46.4032 112.359 45.6988 108.826C44.9944 105.293 43.0866 102.114 40.3006 99.8296C37.5145 97.5455 34.0227 96.2983 30.42 96.3005C26.2938 96.3018 22.337 97.9421 19.42 100.86ZM100.86 100.86C98.3125 103.408 96.7272 106.76 96.3742 110.345C96.0213 113.93 96.9226 117.527 98.9244 120.522C100.926 123.518 103.905 125.726 107.353 126.771C110.8 127.816 114.504 127.633 117.832 126.254C121.16 124.874 123.906 122.383 125.604 119.205C127.301 116.027 127.843 112.359 127.139 108.826C126.434 105.293 124.527 102.114 121.741 99.8296C118.955 97.5455 115.463 96.2983 111.86 96.3005C109.817 96.299 107.793 96.701 105.905 97.4835C104.018 98.2661 102.303 99.4136 100.86 100.86Z\" fill=\"#00AEEF\"/>\n",
       "    </g>\n",
       "    <defs>\n",
       "        <clipPath id=\"clip0_4338_178347\">\n",
       "            <rect width=\"566.93\" height=\"223.75\" fill=\"white\"/>\n",
       "        </clipPath>\n",
       "    </defs>\n",
       "  </svg>\n",
       "</div>\n",
       "\n",
       "        <table class=\"jp-RenderedHTMLCommon\" style=\"border-collapse: collapse;color: var(--jp-ui-font-color1);font-size: var(--jp-ui-font-size1);\">\n",
       "    <tr>\n",
       "        <td style=\"text-align: left\"><b>Python version:</b></td>\n",
       "        <td style=\"text-align: left\"><b>3.10.13</b></td>\n",
       "    </tr>\n",
       "    <tr>\n",
       "        <td style=\"text-align: left\"><b>Ray version:</b></td>\n",
       "        <td style=\"text-align: left\"><b>2.8.0</b></td>\n",
       "    </tr>\n",
       "    \n",
       "</table>\n",
       "\n",
       "    </div>\n",
       "</div>\n"
      ],
      "text/plain": [
       "RayContext(dashboard_url='', python_version='3.10.13', ray_version='2.8.0', ray_commit='105355bd253d6538ed34d331f6a4bdf0e38ace3a', protocol_version=None)"
      ]
     },
     "execution_count": 2,
     "metadata": {},
     "output_type": "execute_result"
    }
   ],
   "source": [
    "def env_creator():\n",
    "    env = simple_tag_v3.parallel_env(num_good=2, num_adversaries=4, num_obstacles=2, max_cycles=25, continuous_actions=True, render_mode=\"rgb_array\")\n",
    "    env = ss.pad_observations_v0(env)\n",
    "    env = ss.pad_action_space_v0(env)\n",
    "    env = ss.frame_stack_v1(env, 3)\n",
    "    env = ss.dtype_v0(env, np.float32)  # Ensure observations are float32\n",
    "    return env\n",
    "\n",
    "env = env_creator()\n",
    "ray.init()"
   ]
  },
  {
   "cell_type": "code",
   "execution_count": 3,
   "metadata": {},
   "outputs": [
    {
     "name": "stdout",
     "output_type": "stream",
     "text": [
      "Observation Spaces:\n",
      "adversary_0: Box(-inf, inf, (66,), float32)\n",
      "adversary_1: Box(-inf, inf, (66,), float32)\n",
      "adversary_2: Box(-inf, inf, (66,), float32)\n",
      "adversary_3: Box(-inf, inf, (66,), float32)\n",
      "agent_0: Box(-inf, inf, (66,), float32)\n",
      "agent_1: Box(-inf, inf, (66,), float32)\n",
      "\n",
      "Actual Observations:\n",
      "adversary_0: shape=(66,), dtype=float32, min=-1.3043397665023804, max=0.691358208656311\n",
      "adversary_1: shape=(66,), dtype=float32, min=-1.670365333557129, max=0.970991313457489\n",
      "adversary_2: shape=(66,), dtype=float32, min=-0.505263090133667, max=1.165102243423462\n",
      "adversary_3: shape=(66,), dtype=float32, min=-0.49872809648513794, max=1.4474895000457764\n",
      "agent_0: shape=(66,), dtype=float32, min=-0.8476895689964294, max=1.5410290956497192\n",
      "agent_1: shape=(66,), dtype=float32, min=-1.1252126693725586, max=0.5451526641845703\n"
     ]
    }
   ],
   "source": [
    "print(\"Observation Spaces:\")\n",
    "for agent in env.possible_agents:\n",
    "    print(f\"{agent}: {env.observation_space(agent)}\")\n",
    "\n",
    "print(\"\\nActual Observations:\")\n",
    "observations = env.reset()\n",
    "for agent, obs in observations[0].items():\n",
    "    print(f\"{agent}: shape={obs.shape}, dtype={obs.dtype}, min={obs.min()}, max={obs.max()}\")"
   ]
  },
  {
   "cell_type": "code",
   "execution_count": 4,
   "metadata": {},
   "outputs": [
    {
     "name": "stdout",
     "output_type": "stream",
     "text": [
      "adversary_0 Box(-inf, inf, (66,), float32)\n",
      "adversary_1 Box(-inf, inf, (66,), float32)\n",
      "adversary_2 Box(-inf, inf, (66,), float32)\n",
      "adversary_3 Box(-inf, inf, (66,), float32)\n",
      "agent_0 Box(-inf, inf, (66,), float32)\n",
      "agent_1 Box(-inf, inf, (66,), float32)\n"
     ]
    }
   ],
   "source": [
    "for agent in env.possible_agents:\n",
    "    print(agent, env.observation_space(agent))"
   ]
  },
  {
   "cell_type": "code",
   "execution_count": 5,
   "metadata": {},
   "outputs": [],
   "source": [
    "env_name = \"simple_tag\"\n",
    "tune.register_env(env_name, lambda config: ParallelPettingZooEnv(env_creator()))"
   ]
  },
  {
   "cell_type": "code",
   "execution_count": 6,
   "metadata": {},
   "outputs": [],
   "source": [
    "config = (\n",
    "    DDPGConfig()\n",
    "    .environment(env=env_name)\n",
    "    .framework(\"torch\")\n",
    "    .rollouts(num_rollout_workers=4)\n",
    "    .training(\n",
    "        actor_lr=1e-4,\n",
    "        critic_lr=1e-3,\n",
    "        tau=0.01,\n",
    "        gamma=0.95,\n",
    "        train_batch_size=1024,\n",
    "        actor_hiddens=[64, 64],\n",
    "        critic_hiddens=[64, 64],\n",
    "        n_step=3,\n",
    "    )\n",
    "    .multi_agent(\n",
    "        policies={agent: (None, env.observation_space(agent), env.action_space(agent), {})\n",
    "                  for agent in env.possible_agents},\n",
    "        policy_mapping_fn=lambda agent_id, *args, **kwargs: agent_id,\n",
    "    )\n",
    ")"
   ]
  },
  {
   "cell_type": "markdown",
   "metadata": {},
   "source": [
    "## Training"
   ]
  },
  {
   "cell_type": "code",
   "execution_count": null,
   "metadata": {},
   "outputs": [],
   "source": [
    "stop = {\n",
    "    \"training_iteration\": 500,\n",
    "    \"timesteps_total\": 2000000,\n",
    "    \"episode_reward_mean\": 200,\n",
    "}\n",
    "\n",
    "results = tune.run(\n",
    "    \"DDPG\",\n",
    "    config=config.to_dict(),\n",
    "    stop=stop,\n",
    "    checkpoint_freq=1,\n",
    "    checkpoint_at_end=True,\n",
    "    local_dir=\"/local/scratch/a/jshreeku/ece595_reinforcement_learning/src/results\",\n",
    "    verbose=1,\n",
    ")\n",
    "\n",
    "# Get the best trial\n",
    "best_trial = results.get_best_trial(\"episode_reward_mean\", \"max\", \"last\")\n",
    "print(f\"Best trial config: {best_trial.config}\")\n",
    "print(f\"Best trial final validation reward: {best_trial.last_result['episode_reward_mean']}\")"
   ]
  },
  {
   "cell_type": "code",
   "execution_count": null,
   "metadata": {},
   "outputs": [],
   "source": [
    "print(f\"Ray version: {ray.__version__}\")\n",
    "print(f\"NumPy version: {np.__version__}\")\n",
    "print(f\"SciPy version: {scipy.__version__}\")\n",
    "# print(f\"scikit-learn version: {sklearn.__version__}\")\n",
    "print(f\"PyTorch version: {torch.__version__}\")"
   ]
  },
  {
   "cell_type": "markdown",
   "metadata": {},
   "source": [
    "## Visualization"
   ]
  },
  {
   "cell_type": "code",
   "execution_count": 7,
   "metadata": {},
   "outputs": [],
   "source": [
    "frame_dir = './outputs/saved_frames'\n",
    "video_dir = \"./outputs/saved_video\"\n",
    "if not os.path.exists(frame_dir):\n",
    "    os.makedirs(frame_dir)\n",
    "    os.makedirs(video_dir)"
   ]
  },
  {
   "cell_type": "code",
   "execution_count": 8,
   "metadata": {},
   "outputs": [],
   "source": [
    "def load_checkpoint(checkpoint_path):\n",
    "    algo = DDPG(config=config)\n",
    "    algo.restore(checkpoint_path)\n",
    "    return algo"
   ]
  },
  {
   "cell_type": "code",
   "execution_count": 9,
   "metadata": {},
   "outputs": [],
   "source": [
    "def save_rendered_frame(frame, frame_count):\n",
    "    # Convert frame from RGB to BGR for OpenCV compatibility\n",
    "    frame = cv2.cvtColor(frame, cv2.COLOR_RGB2BGR)\n",
    "    \n",
    "    # Save the frame as an image file\n",
    "    frame_file = f'{frame_dir}/frame_{frame_count}.png'\n",
    "    cv2.imwrite(frame_file, frame)"
   ]
  },
  {
   "cell_type": "code",
   "execution_count": 10,
   "metadata": {},
   "outputs": [],
   "source": [
    "def save_frame(obs, frame_count):\n",
    "    for agent, observation in obs.items():\n",
    "        # Ensure the observation is in the correct format (HxWxC)\n",
    "        if observation.ndim == 3 and observation.shape[0] == 3:  # If CxHxW format\n",
    "            frame = observation.transpose(1, 2, 0)\n",
    "        else:\n",
    "            frame = observation\n",
    "\n",
    "        # Normalize and convert to uint8 if necessary\n",
    "        if frame.dtype != np.uint8:\n",
    "            frame = (frame * 255).astype(np.uint8)\n",
    "\n",
    "        # Ensure the frame is in RGB format (OpenCV uses BGR)\n",
    "        if frame.shape[-1] == 3:\n",
    "            frame = cv2.cvtColor(frame, cv2.COLOR_RGB2BGR)\n",
    "\n",
    "        frame_file = f'{frame_dir}/frame_{frame_count}_{agent}.png'\n",
    "        cv2.imwrite(frame_file, frame)\n",
    "\n",
    "    return frame_count + 1"
   ]
  },
  {
   "cell_type": "code",
   "execution_count": 11,
   "metadata": {},
   "outputs": [],
   "source": [
    "def render_environment(env, algo, num_episodes=1, video_filename=\"output_video.mp4\", fps=10):\n",
    "    frame_count = 0\n",
    "    \n",
    "    # Initialize video writer\n",
    "    video_writer = None\n",
    "    \n",
    "    for episode in range(num_episodes):\n",
    "        obs, _ = env.reset()\n",
    "        done = {agent: False for agent in obs.keys()}\n",
    "        episode_reward = 0\n",
    "        step = 0\n",
    "        \n",
    "        while not all(done.values()):\n",
    "            actions = {agent: algo.compute_single_action(obs[agent], policy_id=agent) for agent in obs.keys()}\n",
    "            obs, rewards, terminated, truncated, _ = env.step(actions)\n",
    "            done = {agent: terminated[agent] or truncated[agent] for agent in obs.keys()}\n",
    "            episode_reward += sum(rewards.values())\n",
    "            \n",
    "            # Capture and save the rendered frame\n",
    "            rendered_frame = env.render(mode='rgb_array')  # Get pixel array from render()\n",
    "            \n",
    "            if rendered_frame is not None:\n",
    "                # Save individual frames as images\n",
    "                save_rendered_frame(rendered_frame, frame_count)\n",
    "                \n",
    "                # Initialize VideoWriter if it's not already initialized\n",
    "                if video_writer is None:\n",
    "                    height, width, layers = rendered_frame.shape\n",
    "                    fourcc = cv2.VideoWriter_fourcc(*'mp4v')  # Codec for MP4\n",
    "                    video_writer = cv2.VideoWriter(f\"{video_dir}/{video_filename}\", fourcc, fps, (width, height))\n",
    "                \n",
    "                # Write the frame to the video file\n",
    "                video_writer.write(cv2.cvtColor(rendered_frame, cv2.COLOR_RGB2BGR))\n",
    "                \n",
    "                frame_count += 1\n",
    "            \n",
    "            time.sleep(0.1)\n",
    "            step += 1\n",
    "        \n",
    "        print(f\"Episode {episode + 1} finished after {step} steps. Total reward: {episode_reward}\")\n",
    "    \n",
    "    env.close()\n",
    "    \n",
    "    # Release the VideoWriter to finalize the video file\n",
    "    if video_writer is not None:\n",
    "        video_writer.release()\n",
    "    \n",
    "    print(f\"Frames saved in {frame_dir}\")\n",
    "    print(f\"Video saved as {video_filename}\")"
   ]
  },
  {
   "cell_type": "code",
   "execution_count": 12,
   "metadata": {},
   "outputs": [],
   "source": [
    "class CustomParallelPettingZooEnv(ParallelPettingZooEnv):\n",
    "    def __init__(self, env):\n",
    "        super().__init__(env)\n",
    "        self.env = env  # Store the original environment\n",
    "\n",
    "    def render(self, mode='human'):\n",
    "        return self.env.render()  # Pass the mode parameter"
   ]
  },
  {
   "cell_type": "code",
   "execution_count": 13,
   "metadata": {},
   "outputs": [
    {
     "name": "stderr",
     "output_type": "stream",
     "text": [
      "2024-11-10 18:00:29,319\tWARNING deprecation.py:50 -- DeprecationWarning: `rllib/algorithms/ddpg/` has been deprecated. Use `rllib_contrib/ddpg/` instead. This will raise an error in the future!\n",
      "2024-11-10 18:00:29,320\tWARNING deprecation.py:50 -- DeprecationWarning: `rllib/algorithms/simple_q/` has been deprecated. Use `rllib_contrib/simple_q/` instead. This will raise an error in the future!\n",
      "/local/scratch/a/jshreeku/miniconda3/envs/project_env_rl/lib/python3.10/site-packages/ray/rllib/algorithms/algorithm.py:484: RayDeprecationWarning: This API is deprecated and may be removed in future Ray releases. You could suppress this warning by setting env variable PYTHONWARNINGS=\"ignore::DeprecationWarning\"\n",
      "`UnifiedLogger` will be removed in Ray 2.7.\n",
      "  return UnifiedLogger(config, logdir, loggers=None)\n",
      "/local/scratch/a/jshreeku/miniconda3/envs/project_env_rl/lib/python3.10/site-packages/ray/tune/logger/unified.py:53: RayDeprecationWarning: This API is deprecated and may be removed in future Ray releases. You could suppress this warning by setting env variable PYTHONWARNINGS=\"ignore::DeprecationWarning\"\n",
      "The `JsonLogger interface is deprecated in favor of the `ray.tune.json.JsonLoggerCallback` interface and will be removed in Ray 2.7.\n",
      "  self._loggers.append(cls(self.config, self.logdir, self.trial))\n",
      "/local/scratch/a/jshreeku/miniconda3/envs/project_env_rl/lib/python3.10/site-packages/ray/tune/logger/unified.py:53: RayDeprecationWarning: This API is deprecated and may be removed in future Ray releases. You could suppress this warning by setting env variable PYTHONWARNINGS=\"ignore::DeprecationWarning\"\n",
      "The `CSVLogger interface is deprecated in favor of the `ray.tune.csv.CSVLoggerCallback` interface and will be removed in Ray 2.7.\n",
      "  self._loggers.append(cls(self.config, self.logdir, self.trial))\n",
      "/local/scratch/a/jshreeku/miniconda3/envs/project_env_rl/lib/python3.10/site-packages/ray/tune/logger/unified.py:53: RayDeprecationWarning: This API is deprecated and may be removed in future Ray releases. You could suppress this warning by setting env variable PYTHONWARNINGS=\"ignore::DeprecationWarning\"\n",
      "The `TBXLogger interface is deprecated in favor of the `ray.tune.tensorboardx.TBXLoggerCallback` interface and will be removed in Ray 2.7.\n",
      "  self._loggers.append(cls(self.config, self.logdir, self.trial))\n",
      "2024-11-10 18:00:33,358\tWARNING util.py:62 -- Install gputil for GPU system monitoring.\n",
      "2024-11-10 18:00:33,409\tINFO trainable.py:585 -- Restored on 10.145.37.19 from checkpoint: Checkpoint(filesystem=local, path=./results/DDPG_2024-11-10_14-38-02/DDPG_simple_tag_4c77a_00000_0_2024-11-10_14-38-02/checkpoint_000015/)\n",
      "/local/scratch/a/jshreeku/miniconda3/envs/project_env_rl/lib/python3.10/site-packages/pettingzoo/utils/conversions.py:144: UserWarning: The `observation_spaces` dictionary is deprecated. Use the `observation_space` function instead.\n",
      "  warnings.warn(\n",
      "/local/scratch/a/jshreeku/miniconda3/envs/project_env_rl/lib/python3.10/site-packages/pettingzoo/utils/conversions.py:158: UserWarning: The `action_spaces` dictionary is deprecated. Use the `action_space` function instead.\n",
      "  warnings.warn(\n"
     ]
    },
    {
     "name": "stderr",
     "output_type": "stream",
     "text": [
      "\u001b[36m(RolloutWorker pid=3875245)\u001b[0m 2024-11-10 18:00:31,521\tWARNING __init__.py:10 -- DDPG has/have been moved to `rllib_contrib` and will no longer be maintained by the RLlib team. You can still use it/them normally inside RLlib util Ray 2.8, but from Ray 2.9 on, all `rllib_contrib` algorithms will no longer be part of the core repo, and will therefore have to be installed separately with pinned dependencies for e.g. ray[rllib] and other packages! See https://github.com/ray-project/ray/tree/master/rllib_contrib#rllib-contrib for more information on the RLlib contrib effort.\n",
      "\u001b[36m(RolloutWorker pid=3875245)\u001b[0m /local/scratch/a/jshreeku/miniconda3/envs/project_env_rl/lib/python3.10/site-packages/pettingzoo/utils/conversions.py:144: UserWarning: The `observation_spaces` dictionary is deprecated. Use the `observation_space` function instead.\n",
      "\u001b[36m(RolloutWorker pid=3875245)\u001b[0m   warnings.warn(\n",
      "\u001b[36m(RolloutWorker pid=3875245)\u001b[0m /local/scratch/a/jshreeku/miniconda3/envs/project_env_rl/lib/python3.10/site-packages/pettingzoo/utils/conversions.py:158: UserWarning: The `action_spaces` dictionary is deprecated. Use the `action_space` function instead.\n",
      "\u001b[36m(RolloutWorker pid=3875245)\u001b[0m   warnings.warn(\n"
     ]
    },
    {
     "name": "stdout",
     "output_type": "stream",
     "text": [
      "Episode 1 finished after 25 steps. Total reward: 90.0\n",
      "Episode 2 finished after 25 steps. Total reward: -0.23013443673187584\n",
      "Episode 3 finished after 25 steps. Total reward: -2.347127912987083\n",
      "Episode 4 finished after 25 steps. Total reward: -16.125085627463154\n",
      "Episode 5 finished after 25 steps. Total reward: 60.0\n",
      "Frames saved in ./outputs/saved_frames\n",
      "Video saved as output_video.mp4\n"
     ]
    }
   ],
   "source": [
    "# Specify the path to your checkpoint\n",
    "checkpoint_path = \"./results/DDPG_simple_tag_e2375_00000_0_2024-11-10_20-40-08/checkpoint_000015/\"\n",
    "\n",
    "# Load the algorithm from the checkpoint\n",
    "loaded_algo = load_checkpoint(checkpoint_path)\n",
    "\n",
    "# Create a new environment instance for rendering\n",
    "render_env = CustomParallelPettingZooEnv(env_creator())\n",
    "\n",
    "# Render the environment with the loaded algorithm\n",
    "render_environment(render_env, loaded_algo)"
   ]
  },
  {
   "cell_type": "code",
   "execution_count": null,
   "metadata": {},
   "outputs": [],
   "source": []
  },
  {
   "cell_type": "code",
   "execution_count": null,
   "metadata": {},
   "outputs": [],
   "source": []
  }
 ],
 "metadata": {
  "kernelspec": {
   "display_name": "Python 3",
   "language": "python",
   "name": "python3"
  },
  "language_info": {
   "codemirror_mode": {
    "name": "ipython",
    "version": 3
   },
   "file_extension": ".py",
   "mimetype": "text/x-python",
   "name": "python",
   "nbconvert_exporter": "python",
   "pygments_lexer": "ipython3",
   "version": "3.10.13"
  }
 },
 "nbformat": 4,
 "nbformat_minor": 2
}
